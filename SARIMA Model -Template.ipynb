{
  "cells": [
    {
      "cell_type": "code",
      "execution_count": null,
      "metadata": {
        "colab": {
          "base_uri": "https://localhost:8080/",
          "height": 366
        },
        "id": "hlrVYYOXCrp8",
        "outputId": "691e927d-8899-4a7c-90c1-9dc491e996b9"
      },
      "outputs": [],
      "source": [
        "# Import libraries\n",
        "!pip install pmdarima\n",
        "\n",
        "\n",
        "import numpy as np\n",
        "import pandas as pd\n",
        "import matplotlib.pyplot as plt\n",
        "import seaborn as sns\n",
        "from statsmodels.tsa.statespace.sarimax import SARIMAX\n",
        "from statsmodels.tsa.stattools import adfuller\n",
        "from pmdarima import auto_arima\n",
        "import os\n",
        "\n",
        "# Set plot style\n",
        "sns.set()"
      ]
    },
    {
      "cell_type": "code",
      "execution_count": null,
      "metadata": {
        "colab": {
          "base_uri": "https://localhost:8080/",
          "height": 241
        },
        "id": "i6A7ZJtHC4RU",
        "outputId": "8e2c6d84-f42c-4482-ac98-eec4aea89d0a"
      },
      "outputs": [],
      "source": [
        "### USER MUST CHANGE CSV_FILE NAME BELOW TO INTENDED FILE TO BE USED\n",
        "\n",
        "# \"_trends.csv\" is the downloaded csv from google trends explore from time range 01/01/2021 - Present\n",
        "# Must be named [search term]_trends.csv\n",
        "csv_file = \"_trends.csv\"\n",
        "\n",
        "filename = os.path.join(os.getcwd(), \"data\", csv_file)\n",
        "column_name = csv_file.split(\"_\")\n",
        "column_name = column_name[0][0].upper() + column_name[0][1:] + \" Searches\"\n",
        "\n",
        "df = pd.read_csv(filename, header=None, names=['Week', column_name], parse_dates=True)\n",
        "\n",
        "# Subset the data starting from 01/01/2021 to end of december of 2023\n",
        "df = df.loc[df['Week'] < '2024-01-09']\n",
        "\n",
        "# reformat the df\n",
        "df = df.iloc[2:]  # Keeps all rows starting from the third (index 2 onwards)\n",
        "df.reset_index(drop=True, inplace=True)\n",
        "\n",
        "# Convert the search term column to numeric, forcing errors to NaN\n",
        "df[column_name] = pd.to_numeric(df[column_name], errors='coerce')\n",
        "df.set_index('Week', inplace=True)\n",
        "\n",
        "df.head()"
      ]
    },
    {
      "cell_type": "code",
      "execution_count": null,
      "metadata": {},
      "outputs": [],
      "source": [
        "# This file is the actual data to compare with forcasted data (Time range: 12/27/2023 - 10/19/2024*)\n",
        "# *This date should be set to the week before the current week\n",
        "\n",
        "filename_actual = os.path.join(os.getcwd(), \"data\", csv_file)\n",
        "column_name_actual = csv_file.split(\"_\")\n",
        "column_name_actual = column_name_actual[0][0].upper() + column_name_actual[0][1:] + \" Searches Actual\"\n",
        "\n",
        "df_actual = pd.read_csv(filename_actual, header=None, names=['Week', column_name_actual], parse_dates=True)\n",
        "\n",
        "# Subset the data starting from end of december of 2023\n",
        "df_actual = df_actual.loc[df_actual['Week'] >= '2023-12-16']\n",
        "\n",
        "### Change the date to the week before the current week\n",
        "df_actual = df_actual.loc[df_actual['Week'] < '2024-10-19']\n",
        "\n",
        "# reformat the df_actual\n",
        "df_actual = df_actual.iloc[2:]  # Keeps all rows starting from the third (index 2 onwards)\n",
        "df_actual.reset_index(drop=True, inplace=True)\n",
        "\n",
        "# Convert the search term column to numeric, forcing errors to NaN\n",
        "df_actual[column_name_actual] = pd.to_numeric(df_actual[column_name_actual], errors='coerce')\n",
        "df_actual.set_index('Week', inplace=True)\n",
        "\n",
        "df_actual.head()"
      ]
    },
    {
      "cell_type": "code",
      "execution_count": 13,
      "metadata": {
        "id": "_N9JRqXh8XYP"
      },
      "outputs": [],
      "source": [
        "# Identify outliers (you can use thresholds to define what constitutes an outlier)\n",
        "threshold = df[column_name].mean() + 3 * df[column_name].std()\n",
        "\n",
        "# Replace the spike with the median or a reasonable value\n",
        "df[column_name] =   np.where(df[column_name] > threshold,\n",
        "                    df[column_name].median(),\n",
        "                    df[column_name])"
      ]
    },
    {
      "cell_type": "code",
      "execution_count": null,
      "metadata": {
        "colab": {
          "base_uri": "https://localhost:8080/",
          "height": 638
        },
        "id": "JGhc-pfJvB-P",
        "outputId": "f9bd59ab-7271-495c-9003-0ef32804cc8b"
      },
      "outputs": [],
      "source": [
        "import matplotlib.dates as mdates\n",
        "\n",
        "# Plot time series\n",
        "df.index = pd.to_datetime(df.index, errors='coerce')\n",
        "\n",
        "plt.figure(figsize=(18, 6))\n",
        "plt.plot(df, label=column_name)\n",
        "plt.title('Monthly ' + column_name)\n",
        "plt.xlabel('Date')\n",
        "plt.ylabel(column_name)\n",
        "\n",
        "plt.gca().xaxis.set_major_formatter(mdates.DateFormatter('%b %d %Y'))  # Format as 'Jan 01 2021'\n",
        "plt.xticks(rotation=45)\n",
        "\n",
        "plt.legend()\n",
        "plt.show()"
      ]
    },
    {
      "cell_type": "code",
      "execution_count": null,
      "metadata": {
        "colab": {
          "base_uri": "https://localhost:8080/"
        },
        "id": "xyIR83fEDAoQ",
        "outputId": "dc616413-ab67-47e2-9c32-f29f36c94378"
      },
      "outputs": [],
      "source": [
        "# ADF test for stationarity\n",
        "result = adfuller(df[column_name])\n",
        "print(f'ADF Statistic: {result[0]}') # the more negative this value, the stronger the evidence that the time series is stationary\n",
        "print(f'p-value: {result[1]}') # if the p-value is below a threshold (typically 0.05), it suggests that the time series is stationary\n",
        "\n",
        "#If time series is not stationary, need to differenciate or use other transformations"
      ]
    },
    {
      "cell_type": "code",
      "execution_count": null,
      "metadata": {
        "colab": {
          "base_uri": "https://localhost:8080/"
        },
        "id": "q_twT2PDDL1H",
        "outputId": "cfba9e39-b301-4973-882e-8ed94b151834"
      },
      "outputs": [],
      "source": [
        "# Use auto_arima to find optimal params, auto_arima chooses best sarima model\n",
        "\n",
        "## WARNING: This cell may take a while to run (approx time: 5-10m)\n",
        "\n",
        "stepwise_model = auto_arima(df[column_name], seasonal=True, m=52, trace=True) # m=52 in order to make the model week based\n",
        "print(stepwise_model.summary())"
      ]
    },
    {
      "cell_type": "code",
      "execution_count": null,
      "metadata": {
        "colab": {
          "base_uri": "https://localhost:8080/"
        },
        "id": "jmrzJBRZDVPc",
        "outputId": "c0d7f643-71c4-42df-c3ad-50b8ed015c23"
      },
      "outputs": [],
      "source": [
        "sarima_model = SARIMAX(df[column_name],\n",
        "                       order=stepwise_model.order,  # Optimal ARIMA order from auto_arima\n",
        "                       seasonal_order=stepwise_model.seasonal_order, # optimal ARIMA seasonal order from auto_arima\n",
        "                       enforce_stationarity=False,\n",
        "                       enforce_invertibility=False)\n",
        "\n",
        "sarima_result = sarima_model.fit()"
      ]
    },
    {
      "cell_type": "code",
      "execution_count": null,
      "metadata": {
        "colab": {
          "base_uri": "https://localhost:8080/",
          "height": 633
        },
        "id": "1Q2opUHDDaAu",
        "outputId": "bc732907-9e46-47d9-e9f2-149ee4de90cc"
      },
      "outputs": [],
      "source": [
        "# predictions\n",
        "# Forecast for the next 12 months\n",
        "forecast = sarima_result.get_forecast(steps=52)\n",
        "\n",
        "# Get confidence intervals\n",
        "forecast_ci = forecast.conf_int()\n",
        "\n",
        "# Ensure the 'Week' index is properly parsed without timezone\n",
        "df.index = pd.to_datetime(df.index, errors='coerce')\n",
        "\n",
        "# Ensure forecast index is also datetime without timezone\n",
        "forecast.predicted_mean.index = pd.to_datetime(forecast.predicted_mean.index, errors='coerce')\n",
        "forecast_ci.index = pd.to_datetime(forecast_ci.index, errors='coerce')\n",
        "\n",
        "# Plot the forecast\n",
        "plt.figure(figsize=(19, 6))\n",
        "plt.plot(df.index, df[column_name], label='Observed', color='blue')\n",
        "plt.plot(forecast.predicted_mean.index, forecast.predicted_mean, label='Forecast', color='orange')\n",
        "plt.fill_between(forecast_ci.index, forecast_ci.iloc[:, 0], forecast_ci.iloc[:, 1], color='k', alpha=0.1)\n",
        "\n",
        "plt.gca().xaxis.set_major_formatter(mdates.DateFormatter('%b %d %Y'))  # Format as 'Jan 01 2021'\n",
        "plt.xticks(rotation=45)\n",
        "\n",
        "plt.title('SARIMA Forecast')\n",
        "plt.xlabel('Date')\n",
        "plt.ylabel(column_name)\n",
        "plt.legend()\n",
        "plt.show()\n",
        "\n",
        "# Note: large gap between end of data and start of forcast"
      ]
    },
    {
      "cell_type": "code",
      "execution_count": null,
      "metadata": {
        "colab": {
          "base_uri": "https://localhost:8080/",
          "height": 339
        },
        "id": "ePQeFTntDbhg",
        "outputId": "a3c79e57-8adb-4625-8fa9-08fb8043449f"
      },
      "outputs": [],
      "source": [
        "# Evaluate Model\n",
        "# Calculate Mean Absolute Error (MAE)\n",
        "overlap_start = '2024-01-07'  # Example start date (adjust based on output)\n",
        "overlap_end = '2024-10-19'    # Example end date (adjust based on output)\n",
        "y_pred_test = forecast.predicted_mean.loc[overlap_start:overlap_end]\n",
        "y_true_test = df_actual.loc[overlap_start:overlap_end, column_name_actual]\n",
        "\n",
        "# Check if there is data in the overlapping period\n",
        "if len(y_pred_test) == 0 or len(y_true_test) == 0:\n",
        "    print(\"No overlapping data found. Please adjust the date range.\")\n",
        "else:\n",
        "    # Step 3: Calculate Mean Absolute Error for the overlapping period if data exists\n",
        "    from sklearn.metrics import mean_absolute_error\n",
        "    mae_test = mean_absolute_error(y_true_test, y_pred_test)\n",
        "    print(f'Mean Absolute Error (MAE) for Test Period: {mae_test}')"
      ]
    },
    {
      "cell_type": "code",
      "execution_count": null,
      "metadata": {},
      "outputs": [],
      "source": [
        "# Ensure forecast index is properly formatted\n",
        "forecast.predicted_mean.index = pd.to_datetime(forecast.predicted_mean.index, errors='coerce')\n",
        "forecast_ci.index = pd.to_datetime(forecast_ci.index, errors='coerce')\n",
        "\n",
        "# Ensure the index of the actual data is also in datetime format\n",
        "df_actual.index = pd.to_datetime(df_actual.index, errors='coerce')\n",
        "\n",
        "# Plot the observed, forecast, and actual data\n",
        "plt.figure(figsize=(19, 6))\n",
        "\n",
        "# Plot the observed data (from your original df)\n",
        "plt.plot(df.index, df[column_name], label='Observed', color='blue')\n",
        "\n",
        "# Plot the forecasted data\n",
        "plt.plot(forecast.predicted_mean.index, forecast.predicted_mean, label='Forecast', color='orange')\n",
        "\n",
        "# Plot the actual data from df_actual (overlayed on top of the forecast)\n",
        "plt.plot(df_actual.index, df_actual[column_name_actual], label='Actual', color='green', linestyle='--')\n",
        "\n",
        "# Add confidence intervals for the forecast\n",
        "plt.fill_between(forecast_ci.index, forecast_ci.iloc[:, 0], forecast_ci.iloc[:, 1], color='gray', alpha=0.2)\n",
        "\n",
        "# Formatting the x-axis\n",
        "plt.gca().xaxis.set_major_formatter(mdates.DateFormatter('%b %d %Y'))\n",
        "plt.xticks(rotation=45)\n",
        "\n",
        "# Add titles and labels\n",
        "plt.title('SARIMA Forecast vs Actual Data')\n",
        "plt.xlabel('Date')\n",
        "plt.ylabel(column_name)\n",
        "\n",
        "# Add the legend to distinguish between the observed, forecasted, and actual data\n",
        "plt.legend()\n",
        "\n",
        "# Show the plot\n",
        "plt.show()\n"
      ]
    }
  ],
  "metadata": {
    "colab": {
      "provenance": []
    },
    "kernelspec": {
      "display_name": "Python 3",
      "name": "python3"
    },
    "language_info": {
      "codemirror_mode": {
        "name": "ipython",
        "version": 3
      },
      "file_extension": ".py",
      "mimetype": "text/x-python",
      "name": "python",
      "nbconvert_exporter": "python",
      "pygments_lexer": "ipython3",
      "version": "3.11.9"
    }
  },
  "nbformat": 4,
  "nbformat_minor": 0
}
